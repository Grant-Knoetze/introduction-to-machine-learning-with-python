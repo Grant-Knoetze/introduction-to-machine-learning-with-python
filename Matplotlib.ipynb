{
  "nbformat": 4,
  "nbformat_minor": 0,
  "metadata": {
    "colab": {
      "provenance": [],
      "authorship_tag": "ABX9TyPBGT4IpgjxDeOUQ9uwIK5K",
      "include_colab_link": true
    },
    "kernelspec": {
      "name": "python3",
      "display_name": "Python 3"
    },
    "language_info": {
      "name": "python"
    }
  },
  "cells": [
    {
      "cell_type": "markdown",
      "metadata": {
        "id": "view-in-github",
        "colab_type": "text"
      },
      "source": [
        "<a href=\"https://colab.research.google.com/github/Grant-Knoetze/introduction-to-machine-learning-with-python/blob/main/Matplotlib.ipynb\" target=\"_parent\"><img src=\"https://colab.research.google.com/assets/colab-badge.svg\" alt=\"Open In Colab\"/></a>"
      ]
    },
    {
      "cell_type": "code",
      "execution_count": 2,
      "metadata": {
        "id": "CWwh4EbYICod"
      },
      "outputs": [],
      "source": [
        "import numpy as np\n",
        "import pandas as p\n",
        "\n"
      ]
    },
    {
      "cell_type": "code",
      "source": [
        "x = 2\n"
      ],
      "metadata": {
        "id": "vOhH_D8YILMP"
      },
      "execution_count": null,
      "outputs": []
    },
    {
      "cell_type": "code",
      "source": [
        "import matplotlib.pyplot as plt\n"
      ],
      "metadata": {
        "id": "1_nOchWnoeNg"
      },
      "execution_count": 1,
      "outputs": []
    },
    {
      "cell_type": "code",
      "source": [
        "x = np.linespace(-10, 10, 100)\n"
      ],
      "metadata": {
        "id": "2WE8uBpOolFm"
      },
      "execution_count": null,
      "outputs": []
    }
  ]
}