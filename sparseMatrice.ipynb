{
 "cells": [
  {
   "cell_type": "code",
   "execution_count": null,
   "metadata": {},
   "outputs": [],
   "source": [
    "import numpy as np\n",
    "from scipy import sparse\n",
    "\n"
   ]
  },
  {
   "cell_type": "code",
   "execution_count": 4,
   "metadata": {},
   "outputs": [
    {
     "name": "stdout",
     "output_type": "stream",
     "text": [
      "Numpy array:\n",
      " [[1. 0. 0. 0. 0. 0. 0. 0. 0. 0.]\n",
      " [0. 1. 0. 0. 0. 0. 0. 0. 0. 0.]\n",
      " [0. 0. 1. 0. 0. 0. 0. 0. 0. 0.]\n",
      " [0. 0. 0. 1. 0. 0. 0. 0. 0. 0.]\n",
      " [0. 0. 0. 0. 1. 0. 0. 0. 0. 0.]\n",
      " [0. 0. 0. 0. 0. 1. 0. 0. 0. 0.]\n",
      " [0. 0. 0. 0. 0. 0. 1. 0. 0. 0.]\n",
      " [0. 0. 0. 0. 0. 0. 0. 1. 0. 0.]\n",
      " [0. 0. 0. 0. 0. 0. 0. 0. 1. 0.]\n",
      " [0. 0. 0. 0. 0. 0. 0. 0. 0. 1.]]\n"
     ]
    }
   ],
   "source": [
    "# Create a 2D Numpy array with a diagonal of ones, and zeros everywhere else\n",
    "import numpy as np\n",
    "from scipy import sparse\n",
    "eye = np.eye(10)\n",
    "print(\"Numpy array:\\n\", eye)"
   ]
  },
  {
   "cell_type": "code",
   "execution_count": 5,
   "metadata": {},
   "outputs": [
    {
     "name": "stdout",
     "output_type": "stream",
     "text": [
      "\n",
      "SciPy sparse CSR matrix:\n",
      "   (0, 0)\t1.0\n",
      "  (1, 1)\t1.0\n",
      "  (2, 2)\t1.0\n",
      "  (3, 3)\t1.0\n",
      "  (4, 4)\t1.0\n",
      "  (5, 5)\t1.0\n",
      "  (6, 6)\t1.0\n",
      "  (7, 7)\t1.0\n",
      "  (8, 8)\t1.0\n",
      "  (9, 9)\t1.0\n"
     ]
    }
   ],
   "source": [
    "# Convert the Numpy array to a SciPy sparse matrix in CSR format\n",
    "# Only the nonzero entries are stored \n",
    "'''The Compressed Sparse Row (CSR) format is a way of efficiently storing and operating on sparse matrices in scientific computing, \n",
    "particularly using libraries like SciPy. Sparse matrices are matrices that contain a large number of zero elements,\n",
    " and the CSR format helps save memory and improve computation speed by storing only the non-zero elements and their positions.'''\n",
    "sparse_matrix= sparse.csr_matrix(eye)\n",
    "print(\"\\nSciPy sparse CSR matrix:\\n\", sparse_matrix)"
   ]
  },
  {
   "cell_type": "code",
   "execution_count": 7,
   "metadata": {},
   "outputs": [
    {
     "name": "stdout",
     "output_type": "stream",
     "text": [
      "COO representation:\n",
      "   (0, 0)\t1.0\n",
      "  (1, 1)\t1.0\n",
      "  (2, 2)\t1.0\n",
      "  (3, 3)\t1.0\n"
     ]
    }
   ],
   "source": [
    "'''Coordinate (COO) format is a way to store sparse matrices by listing the row and column indices of non-zero elements.\n",
    " It's a simple and intuitive format that's useful for building sparse matrices incrementally'''\n",
    "# COO representation \n",
    "data = np.ones(4)\n",
    "row_indices = np.arange(4)\n",
    "col_indices = np.arange(4)\n",
    "eye_coo = sparse.coo_matrix((data,(row_indices,col_indices)))\n",
    "print(\"COO representation:\\n\", eye_coo)"
   ]
  }
 ],
 "metadata": {
  "kernelspec": {
   "display_name": "Python 3",
   "language": "python",
   "name": "python3"
  },
  "language_info": {
   "codemirror_mode": {
    "name": "ipython",
    "version": 3
   },
   "file_extension": ".py",
   "mimetype": "text/x-python",
   "name": "python",
   "nbconvert_exporter": "python",
   "pygments_lexer": "ipython3",
   "version": "3.10.5"
  }
 },
 "nbformat": 4,
 "nbformat_minor": 2
}
