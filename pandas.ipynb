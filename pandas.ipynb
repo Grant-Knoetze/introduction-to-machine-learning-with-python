{
 "cells": [
  {
   "cell_type": "markdown",
   "metadata": {},
   "source": [
    " * Pandas is a Python library for data wrangling and analysis.\n",
    " * It is built around a data structure called a DataFrame that is modeled after the R DataFrame \n",
    " * The DataFrame is essentially a table \n",
    " * It allows for SQL like queries and joins of tables.\n",
    " * Allows for each column to be of a seperate type.\n",
    " * Can ingest a variety of file formats. "
   ]
  },
  {
   "cell_type": "code",
   "execution_count": null,
   "metadata": {
    "vscode": {
     "languageId": "plaintext"
    }
   },
   "outputs": [],
   "source": []
  }
 ],
 "metadata": {
  "language_info": {
   "name": "python"
  }
 },
 "nbformat": 4,
 "nbformat_minor": 2
}
